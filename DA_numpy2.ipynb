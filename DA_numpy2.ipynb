{
  "nbformat": 4,
  "nbformat_minor": 0,
  "metadata": {
    "colab": {
      "provenance": []
    },
    "kernelspec": {
      "name": "python3",
      "display_name": "Python 3"
    },
    "language_info": {
      "name": "python"
    }
  },
  "cells": [
    {
      "cell_type": "code",
      "source": [
        "!pip install np"
      ],
      "metadata": {
        "colab": {
          "base_uri": "https://localhost:8080/"
        },
        "id": "zA2_jRjjrxnS",
        "outputId": "7475823e-7ba2-474a-f567-ecc1b165c2d7"
      },
      "execution_count": null,
      "outputs": [
        {
          "output_type": "stream",
          "name": "stdout",
          "text": [
            "Collecting np\n",
            "  Downloading np-1.0.2.tar.gz (7.4 kB)\n",
            "  Preparing metadata (setup.py) ... \u001b[?25l\u001b[?25hdone\n",
            "Building wheels for collected packages: np\n",
            "  Building wheel for np (setup.py) ... \u001b[?25l\u001b[?25hdone\n",
            "  Created wheel for np: filename=np-1.0.2-py3-none-any.whl size=13658 sha256=5142061a4c6f50c4599a31ccd1714222e05665e269861c3a7069a699171e5f39\n",
            "  Stored in directory: /root/.cache/pip/wheels/f9/e1/79/c4580a03022dece233bc146286fc9082a8885ee1a7c8d8b980\n",
            "Successfully built np\n",
            "Installing collected packages: np\n",
            "Successfully installed np-1.0.2\n"
          ]
        }
      ]
    },
    {
      "cell_type": "code",
      "source": [
        "A=np.ones((8,4))\n",
        "print(A)"
      ],
      "metadata": {
        "colab": {
          "base_uri": "https://localhost:8080/"
        },
        "id": "q3kc1tFGr2wS",
        "outputId": "3ce0a08f-1718-45cf-d6e8-afaefbcd315b"
      },
      "execution_count": null,
      "outputs": [
        {
          "output_type": "stream",
          "name": "stdout",
          "text": [
            "[[1. 1. 1. 1.]\n",
            " [1. 1. 1. 1.]\n",
            " [1. 1. 1. 1.]\n",
            " [1. 1. 1. 1.]\n",
            " [1. 1. 1. 1.]\n",
            " [1. 1. 1. 1.]\n",
            " [1. 1. 1. 1.]\n",
            " [1. 1. 1. 1.]]\n"
          ]
        }
      ]
    },
    {
      "cell_type": "code",
      "source": [
        "#importing\n",
        "import numpy as np\n",
        "# random module is sub package of numpy"
      ],
      "metadata": {
        "id": "6_LNnGKLrb34"
      },
      "execution_count": null,
      "outputs": []
    },
    {
      "cell_type": "code",
      "source": [
        "A=np.random.rand(1)  # it can give any random value\n",
        "print(A)"
      ],
      "metadata": {
        "colab": {
          "base_uri": "https://localhost:8080/"
        },
        "id": "fLUFH899sZBQ",
        "outputId": "12e545c5-e96e-4e94-896a-7b237c61ebe7"
      },
      "execution_count": null,
      "outputs": [
        {
          "output_type": "stream",
          "name": "stdout",
          "text": [
            "[0.85679246]\n"
          ]
        }
      ]
    },
    {
      "cell_type": "code",
      "source": [
        "A=np.random.rand(8,4)  #rand range is between 0 and 1\n",
        "print(A)"
      ],
      "metadata": {
        "colab": {
          "base_uri": "https://localhost:8080/"
        },
        "id": "8Gor8G96smVG",
        "outputId": "e6548a1c-25b4-43e7-c7cd-b315b7fe9c96"
      },
      "execution_count": null,
      "outputs": [
        {
          "output_type": "stream",
          "name": "stdout",
          "text": [
            "[[0.61629809 0.70735843 0.95626109 0.75952874]\n",
            " [0.2515398  0.66824857 0.80077212 0.21017178]\n",
            " [0.244218   0.81272213 0.09294277 0.15991081]\n",
            " [0.00242939 0.7768135  0.13343022 0.98759122]\n",
            " [0.63161207 0.36020394 0.6711001  0.21636172]\n",
            " [0.83372965 0.45162371 0.73643434 0.11253632]\n",
            " [0.22684809 0.06506939 0.01297308 0.01510649]\n",
            " [0.06183356 0.08007894 0.09426829 0.38027241]]\n"
          ]
        }
      ]
    },
    {
      "cell_type": "code",
      "source": [
        "A=10*np.random.rand(8,4)  #rand range is between 0 and 1\n",
        "print(A)"
      ],
      "metadata": {
        "colab": {
          "base_uri": "https://localhost:8080/"
        },
        "id": "FzcV70K6u7D-",
        "outputId": "7af04dee-85b0-4510-d2bd-d55c549db376"
      },
      "execution_count": null,
      "outputs": [
        {
          "output_type": "stream",
          "name": "stdout",
          "text": [
            "[[3.50959985 9.36262695 1.37713666 2.18739834]\n",
            " [7.43506776 2.46053586 1.31496076 5.22842184]\n",
            " [6.45403195 8.94297474 9.57638047 6.64056694]\n",
            " [2.96760118 1.90024468 5.23591261 5.34550758]\n",
            " [8.52389118 8.46662247 8.3065015  1.75954656]\n",
            " [7.17653713 1.36099645 5.34217652 7.59056088]\n",
            " [3.563413   2.08905906 4.18908985 9.27892264]\n",
            " [5.24957268 8.60280776 1.81012311 7.79511162]]\n"
          ]
        }
      ]
    },
    {
      "cell_type": "code",
      "source": [
        "A=np.floor(10*np.random.rand(8,4))  #rand range is between 0 and 1\n",
        "print(A)"
      ],
      "metadata": {
        "colab": {
          "base_uri": "https://localhost:8080/"
        },
        "id": "g04MBGVxu_7M",
        "outputId": "c290cf8b-902a-4703-9c55-f5ff0acac466"
      },
      "execution_count": null,
      "outputs": [
        {
          "output_type": "stream",
          "name": "stdout",
          "text": [
            "[[7. 7. 0. 4.]\n",
            " [8. 2. 0. 2.]\n",
            " [6. 9. 8. 7.]\n",
            " [0. 7. 1. 6.]\n",
            " [9. 6. 6. 9.]\n",
            " [9. 1. 3. 5.]\n",
            " [7. 3. 2. 5.]\n",
            " [1. 9. 4. 5.]]\n"
          ]
        }
      ]
    },
    {
      "cell_type": "code",
      "source": [
        "np.vsplit(A,4)"
      ],
      "metadata": {
        "colab": {
          "base_uri": "https://localhost:8080/"
        },
        "id": "6MS5PFbiwDqk",
        "outputId": "33951042-3a22-4822-bf2e-37f08d2653bd"
      },
      "execution_count": null,
      "outputs": [
        {
          "output_type": "execute_result",
          "data": {
            "text/plain": [
              "[array([[7., 7., 0., 4.],\n",
              "        [8., 2., 0., 2.]]),\n",
              " array([[6., 9., 8., 7.],\n",
              "        [0., 7., 1., 6.]]),\n",
              " array([[9., 6., 6., 9.],\n",
              "        [9., 1., 3., 5.]]),\n",
              " array([[7., 3., 2., 5.],\n",
              "        [1., 9., 4., 5.]])]"
            ]
          },
          "metadata": {},
          "execution_count": 14
        }
      ]
    },
    {
      "cell_type": "code",
      "source": [
        "np.vsplit(A,(2,4))  #split it after 2nd row and 4th row"
      ],
      "metadata": {
        "colab": {
          "base_uri": "https://localhost:8080/"
        },
        "id": "eqw0wSg_wiip",
        "outputId": "5595e494-ce92-41be-a437-80857a6eca5f"
      },
      "execution_count": null,
      "outputs": [
        {
          "output_type": "execute_result",
          "data": {
            "text/plain": [
              "[array([[7., 7., 0., 4.],\n",
              "        [8., 2., 0., 2.]]),\n",
              " array([[6., 9., 8., 7.],\n",
              "        [0., 7., 1., 6.]]),\n",
              " array([[9., 6., 6., 9.],\n",
              "        [9., 1., 3., 5.],\n",
              "        [7., 3., 2., 5.],\n",
              "        [1., 9., 4., 5.]])]"
            ]
          },
          "metadata": {},
          "execution_count": 31
        }
      ]
    },
    {
      "cell_type": "code",
      "source": [
        "np.hsplit(A,4)"
      ],
      "metadata": {
        "colab": {
          "base_uri": "https://localhost:8080/"
        },
        "id": "t8V3jcx_ysd1",
        "outputId": "81cad3a5-65f7-4450-f0d9-1d7d9d1956da"
      },
      "execution_count": null,
      "outputs": [
        {
          "output_type": "execute_result",
          "data": {
            "text/plain": [
              "[array([[7.],\n",
              "        [8.],\n",
              "        [6.],\n",
              "        [0.],\n",
              "        [9.],\n",
              "        [9.],\n",
              "        [7.],\n",
              "        [1.]]),\n",
              " array([[7.],\n",
              "        [2.],\n",
              "        [9.],\n",
              "        [7.],\n",
              "        [6.],\n",
              "        [1.],\n",
              "        [3.],\n",
              "        [9.]]),\n",
              " array([[0.],\n",
              "        [0.],\n",
              "        [8.],\n",
              "        [1.],\n",
              "        [6.],\n",
              "        [3.],\n",
              "        [2.],\n",
              "        [4.]]),\n",
              " array([[4.],\n",
              "        [2.],\n",
              "        [7.],\n",
              "        [6.],\n",
              "        [9.],\n",
              "        [5.],\n",
              "        [5.],\n",
              "        [5.]])]"
            ]
          },
          "metadata": {},
          "execution_count": 35
        }
      ]
    },
    {
      "cell_type": "code",
      "source": [
        "np.hsplit(A,(1,3))"
      ],
      "metadata": {
        "colab": {
          "base_uri": "https://localhost:8080/"
        },
        "id": "lhAtRDoRy74y",
        "outputId": "f49eb899-f311-4cd4-e55b-4b4193282d10"
      },
      "execution_count": null,
      "outputs": [
        {
          "output_type": "execute_result",
          "data": {
            "text/plain": [
              "[array([[7.],\n",
              "        [8.],\n",
              "        [6.],\n",
              "        [0.],\n",
              "        [9.],\n",
              "        [9.],\n",
              "        [7.],\n",
              "        [1.]]),\n",
              " array([[7., 0.],\n",
              "        [2., 0.],\n",
              "        [9., 8.],\n",
              "        [7., 1.],\n",
              "        [6., 6.],\n",
              "        [1., 3.],\n",
              "        [3., 2.],\n",
              "        [9., 4.]]),\n",
              " array([[4.],\n",
              "        [2.],\n",
              "        [7.],\n",
              "        [6.],\n",
              "        [9.],\n",
              "        [5.],\n",
              "        [5.],\n",
              "        [5.]])]"
            ]
          },
          "metadata": {},
          "execution_count": 38
        }
      ]
    },
    {
      "cell_type": "code",
      "source": [
        "B=np.arange(1,33,1).reshape(4,8)\n",
        "print(B)"
      ],
      "metadata": {
        "colab": {
          "base_uri": "https://localhost:8080/"
        },
        "id": "3bS8K_n5zK57",
        "outputId": "a2816ad1-735c-4c8a-c904-202d78d979dc"
      },
      "execution_count": null,
      "outputs": [
        {
          "output_type": "stream",
          "name": "stdout",
          "text": [
            "[[ 1  2  3  4  5  6  7  8]\n",
            " [ 9 10 11 12 13 14 15 16]\n",
            " [17 18 19 20 21 22 23 24]\n",
            " [25 26 27 28 29 30 31 32]]\n"
          ]
        }
      ]
    },
    {
      "cell_type": "code",
      "source": [
        "np.hsplit(B,8)"
      ],
      "metadata": {
        "colab": {
          "base_uri": "https://localhost:8080/"
        },
        "id": "BlnPEEULzgIP",
        "outputId": "4d9c314d-8214-448b-f721-9cb6183bbbec"
      },
      "execution_count": null,
      "outputs": [
        {
          "output_type": "execute_result",
          "data": {
            "text/plain": [
              "[array([[ 1],\n",
              "        [ 9],\n",
              "        [17],\n",
              "        [25]]),\n",
              " array([[ 2],\n",
              "        [10],\n",
              "        [18],\n",
              "        [26]]),\n",
              " array([[ 3],\n",
              "        [11],\n",
              "        [19],\n",
              "        [27]]),\n",
              " array([[ 4],\n",
              "        [12],\n",
              "        [20],\n",
              "        [28]]),\n",
              " array([[ 5],\n",
              "        [13],\n",
              "        [21],\n",
              "        [29]]),\n",
              " array([[ 6],\n",
              "        [14],\n",
              "        [22],\n",
              "        [30]]),\n",
              " array([[ 7],\n",
              "        [15],\n",
              "        [23],\n",
              "        [31]]),\n",
              " array([[ 8],\n",
              "        [16],\n",
              "        [24],\n",
              "        [32]])]"
            ]
          },
          "metadata": {},
          "execution_count": 45
        }
      ]
    },
    {
      "cell_type": "code",
      "source": [
        "np.hsplit(B,(2,4)) #split it after 2nd column ND 4TH column"
      ],
      "metadata": {
        "colab": {
          "base_uri": "https://localhost:8080/"
        },
        "id": "h3EaNH7w0KcV",
        "outputId": "d71a954c-d641-4049-d7c2-1af761ceee9d"
      },
      "execution_count": null,
      "outputs": [
        {
          "output_type": "execute_result",
          "data": {
            "text/plain": [
              "[array([[ 1,  2],\n",
              "        [ 9, 10],\n",
              "        [17, 18],\n",
              "        [25, 26]]),\n",
              " array([[ 3,  4],\n",
              "        [11, 12],\n",
              "        [19, 20],\n",
              "        [27, 28]]),\n",
              " array([[ 5,  6,  7,  8],\n",
              "        [13, 14, 15, 16],\n",
              "        [21, 22, 23, 24],\n",
              "        [29, 30, 31, 32]])]"
            ]
          },
          "metadata": {},
          "execution_count": 46
        }
      ]
    },
    {
      "cell_type": "markdown",
      "source": [
        "Trigonometry"
      ],
      "metadata": {
        "id": "WH9iyA423R-Y"
      }
    },
    {
      "cell_type": "code",
      "source": [
        "np.pi"
      ],
      "metadata": {
        "colab": {
          "base_uri": "https://localhost:8080/"
        },
        "id": "GtF5u0FD3VXo",
        "outputId": "66272712-efa8-4690-be5a-44a83f04f5e7"
      },
      "execution_count": null,
      "outputs": [
        {
          "output_type": "execute_result",
          "data": {
            "text/plain": [
              "3.141592653589793"
            ]
          },
          "metadata": {},
          "execution_count": 48
        }
      ]
    },
    {
      "cell_type": "code",
      "source": [
        "A=[np.pi/4,np.pi/3,np.pi/2,np.pi]\n",
        "print(A)"
      ],
      "metadata": {
        "colab": {
          "base_uri": "https://localhost:8080/"
        },
        "id": "3FSFnEuO3ePx",
        "outputId": "c1bbeba3-6ada-4b89-c926-ae61920d0380"
      },
      "execution_count": null,
      "outputs": [
        {
          "output_type": "stream",
          "name": "stdout",
          "text": [
            "[0.7853981633974483, 1.0471975511965976, 1.5707963267948966, 3.141592653589793]\n"
          ]
        }
      ]
    },
    {
      "cell_type": "code",
      "source": [
        "np.rad2deg(A) #convert radians to degrees"
      ],
      "metadata": {
        "colab": {
          "base_uri": "https://localhost:8080/"
        },
        "id": "SAVc3qb43sHB",
        "outputId": "4352e06b-e252-4f60-df8e-035a98081518"
      },
      "execution_count": null,
      "outputs": [
        {
          "output_type": "execute_result",
          "data": {
            "text/plain": [
              "array([ 45.,  60.,  90., 180.])"
            ]
          },
          "metadata": {},
          "execution_count": 50
        }
      ]
    },
    {
      "cell_type": "code",
      "source": [
        "a=([ 45.,  60.,  90., 180.])\n",
        "np.deg2rad(a)\n"
      ],
      "metadata": {
        "colab": {
          "base_uri": "https://localhost:8080/"
        },
        "id": "nUcsH4NJ4dj4",
        "outputId": "3ddb516b-a0aa-4592-8311-82edbabbe048"
      },
      "execution_count": null,
      "outputs": [
        {
          "output_type": "execute_result",
          "data": {
            "text/plain": [
              "array([0.78539816, 1.04719755, 1.57079633, 3.14159265])"
            ]
          },
          "metadata": {},
          "execution_count": 53
        }
      ]
    },
    {
      "cell_type": "code",
      "source": [
        "np.sin(90)"
      ],
      "metadata": {
        "colab": {
          "base_uri": "https://localhost:8080/"
        },
        "id": "hhHNPqdh5j7z",
        "outputId": "b24692d0-6c69-402d-95ce-f41e329d5e8f"
      },
      "execution_count": null,
      "outputs": [
        {
          "output_type": "execute_result",
          "data": {
            "text/plain": [
              "0.8939966636005579"
            ]
          },
          "metadata": {},
          "execution_count": 56
        }
      ]
    },
    {
      "cell_type": "code",
      "source": [
        "np.cos(90)"
      ],
      "metadata": {
        "colab": {
          "base_uri": "https://localhost:8080/"
        },
        "id": "Klfz7msW51Vk",
        "outputId": "510bd9cf-e1d3-4449-b6a5-c39de531adf0"
      },
      "execution_count": null,
      "outputs": [
        {
          "output_type": "execute_result",
          "data": {
            "text/plain": [
              "-0.4480736161291701"
            ]
          },
          "metadata": {},
          "execution_count": 57
        }
      ]
    },
    {
      "cell_type": "code",
      "source": [
        "np.tan(45)"
      ],
      "metadata": {
        "colab": {
          "base_uri": "https://localhost:8080/"
        },
        "id": "pYLxOBW758CB",
        "outputId": "77cb6009-4fa5-4df7-dd2a-f40958507554"
      },
      "execution_count": null,
      "outputs": [
        {
          "output_type": "execute_result",
          "data": {
            "text/plain": [
              "1.6197751905438615"
            ]
          },
          "metadata": {},
          "execution_count": 60
        }
      ]
    },
    {
      "cell_type": "markdown",
      "source": [
        "statistics"
      ],
      "metadata": {
        "id": "C5GAM8ex6F7k"
      }
    },
    {
      "cell_type": "code",
      "source": [
        "st=np.array([23,45,67,89,21,34])"
      ],
      "metadata": {
        "id": "xI1GiigT6IL7"
      },
      "execution_count": null,
      "outputs": []
    },
    {
      "cell_type": "code",
      "source": [
        "np.mean(st)\n"
      ],
      "metadata": {
        "colab": {
          "base_uri": "https://localhost:8080/"
        },
        "id": "hGRs_LA06SlU",
        "outputId": "03f6e438-6dae-4c15-99d5-f148cac04b92"
      },
      "execution_count": null,
      "outputs": [
        {
          "output_type": "execute_result",
          "data": {
            "text/plain": [
              "46.5"
            ]
          },
          "metadata": {},
          "execution_count": 62
        }
      ]
    },
    {
      "cell_type": "code",
      "source": [
        "np.median(st)"
      ],
      "metadata": {
        "colab": {
          "base_uri": "https://localhost:8080/"
        },
        "id": "Ct-xaoQm6sSv",
        "outputId": "a8a457a1-f8b9-4f0a-f9f5-6e5e81192af9"
      },
      "execution_count": null,
      "outputs": [
        {
          "output_type": "execute_result",
          "data": {
            "text/plain": [
              "39.5"
            ]
          },
          "metadata": {},
          "execution_count": 63
        }
      ]
    },
    {
      "cell_type": "code",
      "source": [
        "np.std(st)\n",
        "#std=root(sigma(xi-mu)/N)"
      ],
      "metadata": {
        "colab": {
          "base_uri": "https://localhost:8080/"
        },
        "id": "5oXPveGu8YWA",
        "outputId": "beeab99e-8710-495d-8eeb-2ed0d811ef84"
      },
      "execution_count": null,
      "outputs": [
        {
          "output_type": "execute_result",
          "data": {
            "text/plain": [
              "24.452334585202017"
            ]
          },
          "metadata": {},
          "execution_count": 64
        }
      ]
    },
    {
      "cell_type": "code",
      "source": [
        "np.var(st)"
      ],
      "metadata": {
        "colab": {
          "base_uri": "https://localhost:8080/"
        },
        "id": "7xH478aa8bgX",
        "outputId": "f02496cf-ac1d-4b0e-9305-b67ccee1064a"
      },
      "execution_count": null,
      "outputs": [
        {
          "output_type": "execute_result",
          "data": {
            "text/plain": [
              "597.9166666666666"
            ]
          },
          "metadata": {},
          "execution_count": 65
        }
      ]
    },
    {
      "cell_type": "code",
      "source": [
        "D=np.arange(1,5).reshape(2,2)\n",
        "print(D)"
      ],
      "metadata": {
        "colab": {
          "base_uri": "https://localhost:8080/"
        },
        "id": "U7UYZtwfBEvv",
        "outputId": "2962448b-e784-4311-9da4-a689562affc1"
      },
      "execution_count": null,
      "outputs": [
        {
          "output_type": "stream",
          "name": "stdout",
          "text": [
            "[[1 2]\n",
            " [3 4]]\n"
          ]
        }
      ]
    },
    {
      "cell_type": "code",
      "source": [
        "np.linalg.inv(D)   #it is the sub package of numpy It gives the inverse of the given array"
      ],
      "metadata": {
        "colab": {
          "base_uri": "https://localhost:8080/"
        },
        "id": "RK3miEU7BOII",
        "outputId": "30b4d7bb-cf55-4237-e85c-0590c16ad12d"
      },
      "execution_count": null,
      "outputs": [
        {
          "output_type": "execute_result",
          "data": {
            "text/plain": [
              "array([[-2. ,  1. ],\n",
              "       [ 1.5, -0.5]])"
            ]
          },
          "metadata": {},
          "execution_count": 82
        }
      ]
    },
    {
      "cell_type": "code",
      "source": [
        "C=np.random.rand(2,6).reshape(6,2)\n",
        "print(C)"
      ],
      "metadata": {
        "colab": {
          "base_uri": "https://localhost:8080/"
        },
        "id": "6Lg1QSUz-cfC",
        "outputId": "f662b7c6-52ea-45e6-96a8-77cad9d7dca3"
      },
      "execution_count": null,
      "outputs": [
        {
          "output_type": "stream",
          "name": "stdout",
          "text": [
            "[[0.68733346 0.25680588]\n",
            " [0.32120442 0.4087346 ]\n",
            " [0.19660866 0.64430222]\n",
            " [0.73569492 0.48414434]\n",
            " [0.27018948 0.43848571]\n",
            " [0.17502421 0.14472284]]\n"
          ]
        }
      ]
    },
    {
      "cell_type": "code",
      "source": [
        "print(np.argmax(C))"
      ],
      "metadata": {
        "colab": {
          "base_uri": "https://localhost:8080/"
        },
        "id": "HemLmvBF-3EG",
        "outputId": "ba4ce6d3-4560-4272-9263-c7689f329e23"
      },
      "execution_count": null,
      "outputs": [
        {
          "output_type": "stream",
          "name": "stdout",
          "text": [
            "6\n"
          ]
        }
      ]
    },
    {
      "cell_type": "code",
      "source": [
        "np.argmax(C,axis=1) #gives the index number where it has biggest value in each row"
      ],
      "metadata": {
        "colab": {
          "base_uri": "https://localhost:8080/"
        },
        "id": "6aCWs1KXBeY4",
        "outputId": "a8e276f4-48e7-4c11-9942-c54f722fbe8e"
      },
      "execution_count": null,
      "outputs": [
        {
          "output_type": "execute_result",
          "data": {
            "text/plain": [
              "array([0, 1, 1, 0, 1, 0])"
            ]
          },
          "metadata": {},
          "execution_count": 84
        }
      ]
    },
    {
      "cell_type": "code",
      "source": [
        "np.argmax(C,axis=0) #gives the index number where it has biggest value in each columns"
      ],
      "metadata": {
        "colab": {
          "base_uri": "https://localhost:8080/"
        },
        "id": "Zy7HRMOXCJc6",
        "outputId": "8159eead-92dd-417a-ca5b-3273a1efe621"
      },
      "execution_count": null,
      "outputs": [
        {
          "output_type": "execute_result",
          "data": {
            "text/plain": [
              "array([3, 2])"
            ]
          },
          "metadata": {},
          "execution_count": 85
        }
      ]
    },
    {
      "cell_type": "code",
      "source": [
        "print(np.argmin(C))"
      ],
      "metadata": {
        "colab": {
          "base_uri": "https://localhost:8080/"
        },
        "id": "wI8-60TWEcKO",
        "outputId": "dabd0c2e-6b38-40d4-9ecf-aaa59f17ca04"
      },
      "execution_count": null,
      "outputs": [
        {
          "output_type": "stream",
          "name": "stdout",
          "text": [
            "11\n"
          ]
        }
      ]
    },
    {
      "cell_type": "code",
      "source": [
        "print(np.argmin(C,axis=1))"
      ],
      "metadata": {
        "colab": {
          "base_uri": "https://localhost:8080/"
        },
        "id": "OqcLxJWyEiDz",
        "outputId": "a2b9b6ef-b7b5-4a96-b76b-a30dbd7104de"
      },
      "execution_count": null,
      "outputs": [
        {
          "output_type": "stream",
          "name": "stdout",
          "text": [
            "[1 0 0 1 0 1]\n"
          ]
        }
      ]
    },
    {
      "cell_type": "code",
      "source": [
        "print(np.argmin(C,axis=0))"
      ],
      "metadata": {
        "colab": {
          "base_uri": "https://localhost:8080/"
        },
        "id": "Tg2fweG0EocK",
        "outputId": "80e17859-be6c-4d6c-927b-5e43106d07f2"
      },
      "execution_count": null,
      "outputs": [
        {
          "output_type": "stream",
          "name": "stdout",
          "text": [
            "[5 5]\n"
          ]
        }
      ]
    },
    {
      "cell_type": "markdown",
      "source": [
        "searching"
      ],
      "metadata": {
        "id": "7PbpoqirFG3s"
      }
    },
    {
      "cell_type": "code",
      "source": [
        "a=np.array([34,45,67,89,23])\n",
        "print(np.where(a>49))"
      ],
      "metadata": {
        "colab": {
          "base_uri": "https://localhost:8080/"
        },
        "id": "HhP-zJ8LFIfs",
        "outputId": "faf3770f-1191-4f70-b10d-cb882497969b"
      },
      "execution_count": null,
      "outputs": [
        {
          "output_type": "stream",
          "name": "stdout",
          "text": [
            "(array([2, 3]),)\n"
          ]
        }
      ]
    },
    {
      "cell_type": "code",
      "source": [
        "print(np.where(a/8==0))"
      ],
      "metadata": {
        "colab": {
          "base_uri": "https://localhost:8080/"
        },
        "id": "Om-PCKp5FtzK",
        "outputId": "7c00ef50-2770-465c-9e22-41aa8772bbee"
      },
      "execution_count": null,
      "outputs": [
        {
          "output_type": "stream",
          "name": "stdout",
          "text": [
            "(array([], dtype=int64),)\n"
          ]
        }
      ]
    },
    {
      "cell_type": "code",
      "source": [
        "a=np.array([24,16,7,17,54,60])\n",
        "print(np.where(a%6==0))"
      ],
      "metadata": {
        "colab": {
          "base_uri": "https://localhost:8080/"
        },
        "id": "4TaFAWYZGRqD",
        "outputId": "1ff2fc9e-7280-4848-9872-763bcf734b78"
      },
      "execution_count": null,
      "outputs": [
        {
          "output_type": "stream",
          "name": "stdout",
          "text": [
            "(array([0, 4, 5]),)\n"
          ]
        }
      ]
    },
    {
      "cell_type": "code",
      "source": [
        "z=np.array([23,34,45,56,67])\n",
        "y=np.searchsorted(z,56)\n",
        "print(y)"
      ],
      "metadata": {
        "colab": {
          "base_uri": "https://localhost:8080/"
        },
        "id": "0cgarJDVHIF4",
        "outputId": "e8b2e355-7e6a-4a85-84ca-6c5737c2e145"
      },
      "execution_count": null,
      "outputs": [
        {
          "output_type": "stream",
          "name": "stdout",
          "text": [
            "3\n"
          ]
        }
      ]
    },
    {
      "cell_type": "code",
      "source": [
        "a=np.array([24,16,7,17,54,60])\n",
        "print(np.sort(a))\n",
        "c=np.searchsorted(a,24)\n",
        "print(c)"
      ],
      "metadata": {
        "colab": {
          "base_uri": "https://localhost:8080/"
        },
        "id": "CWLa61aOHgde",
        "outputId": "b1244648-0d5e-4d6a-ddac-b689dfa14005"
      },
      "execution_count": null,
      "outputs": [
        {
          "output_type": "stream",
          "name": "stdout",
          "text": [
            "[ 7 16 17 24 54 60]\n",
            "4\n"
          ]
        }
      ]
    },
    {
      "cell_type": "code",
      "source": [
        "arr=np.array([\"banana\",\"apple\",\"cherry\"])\n",
        "print(np.sort(arr))"
      ],
      "metadata": {
        "colab": {
          "base_uri": "https://localhost:8080/"
        },
        "id": "0Jd19CmgI6C-",
        "outputId": "8e72512a-41aa-4d93-93bf-a7637c30c71e"
      },
      "execution_count": null,
      "outputs": [
        {
          "output_type": "stream",
          "name": "stdout",
          "text": [
            "['apple' 'banana' 'cherry']\n"
          ]
        }
      ]
    },
    {
      "cell_type": "code",
      "source": [
        "q=np.array([True,False,False])\n",
        "print(np.sort(q))\n"
      ],
      "metadata": {
        "colab": {
          "base_uri": "https://localhost:8080/"
        },
        "id": "oE2gXFbjJJms",
        "outputId": "16a31a8a-02e9-4452-d8b2-9902b7dd059f"
      },
      "execution_count": null,
      "outputs": [
        {
          "output_type": "stream",
          "name": "stdout",
          "text": [
            "[False False  True]\n"
          ]
        }
      ]
    },
    {
      "cell_type": "code",
      "source": [
        "arr=np.array([[3,2,4],[5,0,1]])\n",
        "print(np.sort(arr))"
      ],
      "metadata": {
        "colab": {
          "base_uri": "https://localhost:8080/"
        },
        "id": "R1jf0XSpJfzc",
        "outputId": "1971d4f3-6583-45ef-ac8d-5cb3b50cf2d4"
      },
      "execution_count": null,
      "outputs": [
        {
          "output_type": "stream",
          "name": "stdout",
          "text": [
            "[[2 3 4]\n",
            " [0 1 5]]\n"
          ]
        }
      ]
    },
    {
      "cell_type": "markdown",
      "source": [
        "array filter"
      ],
      "metadata": {
        "id": "m9NKsI6qLks5"
      }
    },
    {
      "cell_type": "code",
      "source": [
        "arr=np.array([40,34,57,89,90])   #filter can work for arrays and lists\n",
        "flit=np.where(arr%2==0)\n",
        "print(flit)"
      ],
      "metadata": {
        "colab": {
          "base_uri": "https://localhost:8080/"
        },
        "id": "4_z5FT6lLmrT",
        "outputId": "5c2aa83c-0006-49b1-d922-884aea4df117"
      },
      "execution_count": null,
      "outputs": [
        {
          "output_type": "stream",
          "name": "stdout",
          "text": [
            "(array([0, 1, 4]),)\n"
          ]
        }
      ]
    },
    {
      "cell_type": "code",
      "source": [
        "arr[flit]"
      ],
      "metadata": {
        "colab": {
          "base_uri": "https://localhost:8080/"
        },
        "id": "YPrn5HKPL9Pe",
        "outputId": "abe2410e-85ae-4e35-886e-25728ed96def"
      },
      "execution_count": null,
      "outputs": [
        {
          "output_type": "execute_result",
          "data": {
            "text/plain": [
              "array([40, 34, 90])"
            ]
          },
          "metadata": {},
          "execution_count": 108
        }
      ]
    },
    {
      "cell_type": "markdown",
      "source": [
        "iterating two arrays"
      ],
      "metadata": {
        "id": "bKrxZQTANpDC"
      }
    },
    {
      "cell_type": "code",
      "source": [
        "names=np.array([\"Vyshu\",\"Bhargavi\",\"Devi\",\"Satya\"])\n",
        "initials=np.array([\"Y\",\"P\",\"M\",\"A\"])\n",
        "for i,j in zip(initials,names):\n",
        "  print(i,\".\",j)"
      ],
      "metadata": {
        "colab": {
          "base_uri": "https://localhost:8080/"
        },
        "id": "0ojPY4tjNsa2",
        "outputId": "4c6541e4-67b8-41b2-f093-26716e4bcf38"
      },
      "execution_count": null,
      "outputs": [
        {
          "output_type": "stream",
          "name": "stdout",
          "text": [
            "Y . Vyshu\n",
            "P . Bhargavi\n",
            "M . Devi\n",
            "A . Satya\n"
          ]
        }
      ]
    },
    {
      "cell_type": "code",
      "source": [
        "a1=np.array([10,20,30,40,50,60])\n",
        "a2=np.array([2,3,4,5,6,7])\n",
        "n=np.multiply(a1,a2)\n",
        "print(n)\n"
      ],
      "metadata": {
        "colab": {
          "base_uri": "https://localhost:8080/"
        },
        "id": "qRhLatqSQAfZ",
        "outputId": "9bdc33a0-e237-47fe-d914-ae2de546f8cd"
      },
      "execution_count": null,
      "outputs": [
        {
          "output_type": "stream",
          "name": "stdout",
          "text": [
            "[ 20  60 120 200 300 420]\n"
          ]
        }
      ]
    },
    {
      "cell_type": "code",
      "source": [
        "a1=np.array([10,20,30,40,50,60])\n",
        "a2=np.array([2,3,4,5,6,7])\n",
        "n=np.divmod(a1,a2)\n",
        "print(n)"
      ],
      "metadata": {
        "colab": {
          "base_uri": "https://localhost:8080/"
        },
        "id": "jEXK-tuPQu1z",
        "outputId": "b4486efd-7304-4dc0-c3e6-6d8ec98e0b65"
      },
      "execution_count": null,
      "outputs": [
        {
          "output_type": "stream",
          "name": "stdout",
          "text": [
            "(array([5, 6, 7, 8, 8, 8]), array([0, 2, 2, 0, 2, 4]))\n"
          ]
        }
      ]
    },
    {
      "cell_type": "code",
      "source": [
        "a1=np.array([10,20,30,40,50,60])\n",
        "a2=np.array([2,3,4,5,6,7])\n",
        "n=np.mod(a1,a2)\n",
        "print(n)"
      ],
      "metadata": {
        "colab": {
          "base_uri": "https://localhost:8080/"
        },
        "id": "D3bokLeFRC_2",
        "outputId": "cc8d96f0-507c-4c85-fa30-5421ced895cb"
      },
      "execution_count": null,
      "outputs": [
        {
          "output_type": "stream",
          "name": "stdout",
          "text": [
            "[0 2 2 0 2 4]\n"
          ]
        }
      ]
    },
    {
      "cell_type": "code",
      "source": [
        "a1=np.array([2,3,4,5,6,7])\n",
        "a2=np.array([10,20,30,40,50,60])\n",
        "n=np.subtract(a1,a2)\n",
        "print(n)\n"
      ],
      "metadata": {
        "colab": {
          "base_uri": "https://localhost:8080/"
        },
        "id": "Pr_xk9WIRT0e",
        "outputId": "666ab437-9350-4200-bc68-51755edb0d3e"
      },
      "execution_count": null,
      "outputs": [
        {
          "output_type": "stream",
          "name": "stdout",
          "text": [
            "[ -8 -17 -26 -35 -44 -53]\n"
          ]
        }
      ]
    },
    {
      "cell_type": "markdown",
      "source": [
        "Logarithms"
      ],
      "metadata": {
        "id": "lxiaIH9NSLeA"
      }
    },
    {
      "cell_type": "code",
      "source": [
        "a1=np.arange(1,10)\n",
        "print(a1)\n",
        "print(\"\\n\")\n",
        "print(np.log2(a1)) #log with base 2\n",
        "print(\"\\n\")\n",
        "print(np.log10(a1)) #log with base 10\n",
        "print(\"\\n\")\n",
        "print(np.log(a1)) #natural logarithms"
      ],
      "metadata": {
        "colab": {
          "base_uri": "https://localhost:8080/"
        },
        "id": "N30i9IdvSNlT",
        "outputId": "2e82ee94-ca2d-4000-8420-b2ff8246e9a6"
      },
      "execution_count": null,
      "outputs": [
        {
          "output_type": "stream",
          "name": "stdout",
          "text": [
            "[1 2 3 4 5 6 7 8 9]\n",
            "\n",
            "\n",
            "[0.         1.         1.5849625  2.         2.32192809 2.5849625\n",
            " 2.80735492 3.         3.169925  ]\n",
            "\n",
            "\n",
            "[0.         0.30103    0.47712125 0.60205999 0.69897    0.77815125\n",
            " 0.84509804 0.90308999 0.95424251]\n",
            "\n",
            "\n",
            "[0.         0.69314718 1.09861229 1.38629436 1.60943791 1.79175947\n",
            " 1.94591015 2.07944154 2.19722458]\n"
          ]
        }
      ]
    },
    {
      "cell_type": "markdown",
      "source": [
        "Other Mathematical Functions"
      ],
      "metadata": {
        "id": "lNVDP5jjUU--"
      }
    },
    {
      "cell_type": "code",
      "source": [
        "a2=np.array([24,46,68,80])\n",
        "z=np.cumsum(a2)\n",
        "print(z)"
      ],
      "metadata": {
        "colab": {
          "base_uri": "https://localhost:8080/"
        },
        "id": "wCmNDd5jUY5c",
        "outputId": "72ecf95c-1002-45b2-d6c0-7e774ceb0a2e"
      },
      "execution_count": null,
      "outputs": [
        {
          "output_type": "stream",
          "name": "stdout",
          "text": [
            "[ 24  70 138 218]\n"
          ]
        }
      ]
    },
    {
      "cell_type": "code",
      "source": [
        "a1=np.array([2,4,6,8,10])\n",
        "z=np.cumprod(a1)\n",
        "print(z)"
      ],
      "metadata": {
        "colab": {
          "base_uri": "https://localhost:8080/"
        },
        "id": "NNimzkOmUv0s",
        "outputId": "f234e27c-a9b8-4823-d92f-2228fd9b9fa7"
      },
      "execution_count": null,
      "outputs": [
        {
          "output_type": "stream",
          "name": "stdout",
          "text": [
            "[   2    8   48  384 3840]\n"
          ]
        }
      ]
    },
    {
      "cell_type": "code",
      "source": [
        "a1=np.array([2,4,6,8,10])\n",
        "z=np.diff(a1)\n",
        "print(z)"
      ],
      "metadata": {
        "colab": {
          "base_uri": "https://localhost:8080/"
        },
        "id": "CrjWDs8sVHdu",
        "outputId": "c10b354a-b5da-4eda-e858-ec2db10ab7a0"
      },
      "execution_count": null,
      "outputs": [
        {
          "output_type": "stream",
          "name": "stdout",
          "text": [
            "[2 2 2 2]\n"
          ]
        }
      ]
    },
    {
      "cell_type": "code",
      "source": [
        "n1=455\n",
        "n2=665\n",
        "x=np.lcm(n1,n2)\n",
        "print(x)\n",
        "y=np.gcd(n1,n2)\n",
        "print(y)"
      ],
      "metadata": {
        "colab": {
          "base_uri": "https://localhost:8080/"
        },
        "id": "igg7GypmVhoc",
        "outputId": "71996b3e-7659-417d-9c4a-fad90e33bdb4"
      },
      "execution_count": null,
      "outputs": [
        {
          "output_type": "stream",
          "name": "stdout",
          "text": [
            "8645\n",
            "35\n"
          ]
        }
      ]
    },
    {
      "cell_type": "code",
      "source": [
        "a=np.array([12,13,14])\n",
        "gc=np.gcd.reduce(a)  #takes multiple inputs gives single output\n",
        "print(gc)"
      ],
      "metadata": {
        "colab": {
          "base_uri": "https://localhost:8080/",
          "height": 210
        },
        "id": "QH2ONwfUWw5l",
        "outputId": "bfa577dd-3648-4574-e5cd-965adb0add5e"
      },
      "execution_count": null,
      "outputs": [
        {
          "output_type": "error",
          "ename": "TypeError",
          "evalue": "gcd() takes from 2 to 3 positional arguments but 1 were given",
          "traceback": [
            "\u001b[0;31m---------------------------------------------------------------------------\u001b[0m",
            "\u001b[0;31mTypeError\u001b[0m                                 Traceback (most recent call last)",
            "\u001b[0;32m<ipython-input-131-c4da0d34d090>\u001b[0m in \u001b[0;36m<cell line: 2>\u001b[0;34m()\u001b[0m\n\u001b[1;32m      1\u001b[0m \u001b[0ma\u001b[0m\u001b[0;34m=\u001b[0m\u001b[0mnp\u001b[0m\u001b[0;34m.\u001b[0m\u001b[0marray\u001b[0m\u001b[0;34m(\u001b[0m\u001b[0;34m[\u001b[0m\u001b[0;36m12\u001b[0m\u001b[0;34m,\u001b[0m\u001b[0;36m13\u001b[0m\u001b[0;34m,\u001b[0m\u001b[0;36m14\u001b[0m\u001b[0;34m]\u001b[0m\u001b[0;34m)\u001b[0m\u001b[0;34m\u001b[0m\u001b[0;34m\u001b[0m\u001b[0m\n\u001b[0;32m----> 2\u001b[0;31m \u001b[0mgc\u001b[0m\u001b[0;34m=\u001b[0m\u001b[0mnp\u001b[0m\u001b[0;34m.\u001b[0m\u001b[0mgcd\u001b[0m\u001b[0;34m(\u001b[0m\u001b[0ma\u001b[0m\u001b[0;34m)\u001b[0m  \u001b[0;31m#takes multiple inputs gives single output\u001b[0m\u001b[0;34m\u001b[0m\u001b[0;34m\u001b[0m\u001b[0m\n\u001b[0m\u001b[1;32m      3\u001b[0m \u001b[0mprint\u001b[0m\u001b[0;34m(\u001b[0m\u001b[0mgc\u001b[0m\u001b[0;34m)\u001b[0m\u001b[0;34m\u001b[0m\u001b[0;34m\u001b[0m\u001b[0m\n",
            "\u001b[0;31mTypeError\u001b[0m: gcd() takes from 2 to 3 positional arguments but 1 were given"
          ]
        }
      ]
    },
    {
      "cell_type": "code",
      "source": [
        "a=np.array([12,13,14])\n",
        "gc=np.lcm.reduce(a)  #takes multiple inputs gives single output\n",
        "print(gc)"
      ],
      "metadata": {
        "colab": {
          "base_uri": "https://localhost:8080/"
        },
        "id": "-ge99AtuXKcQ",
        "outputId": "35938ca2-1f66-4597-9868-fdda3e7057e0"
      },
      "execution_count": null,
      "outputs": [
        {
          "output_type": "stream",
          "name": "stdout",
          "text": [
            "1092\n"
          ]
        }
      ]
    }
  ]
}